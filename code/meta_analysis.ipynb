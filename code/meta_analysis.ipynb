{
 "cells": [
  {
   "cell_type": "markdown",
   "metadata": {},
   "source": [
    "### 1. Load data"
   ]
  },
  {
   "cell_type": "code",
   "execution_count": 6,
   "metadata": {
    "vscode": {
     "languageId": "r"
    }
   },
   "outputs": [],
   "source": [
    "df <- fromJSON(\"/mnt/d/PYDataScience/HIV_TXP_SR/data/supp.json\")\n"
   ]
  },
  {
   "cell_type": "markdown",
   "metadata": {},
   "source": [
    "### 2. Publication bias"
   ]
  },
  {
   "cell_type": "code",
   "execution_count": 7,
   "metadata": {
    "vscode": {
     "languageId": "r"
    }
   },
   "outputs": [
    {
     "ename": "ERROR",
     "evalue": "Error in 1:nrow(data): argument of length 0\n",
     "output_type": "error",
     "traceback": [
      "Error in 1:nrow(data): argument of length 0\nTraceback:\n"
     ]
    }
   ],
   "source": [
    "# Initialize an empty vector for effect sizes\n",
    "effect_size <- numeric(length(data))\n",
    "\n",
    "# Loop through each row to apply your selection criteria\n",
    "for (i in 1:nrow(data)) {\n",
    "  if (!is.na(data$`>=_5-year_patient_survival_(%)_hiv+`[i]) && data$`>=_5-year_patient_survival_(%)_hiv+`[i] != \"None\") {\n",
    "    effect_size[i] <- data$`>=_5-year_patient_survival_(%)_hiv+`[i]\n",
    "  } else if (!is.na(data$`3-year_patient_survival_(%)_hiv+`[i]) && data$`3-year_patient_survival_(%)_hiv+`[i] != \"None\") {\n",
    "    effect_size[i] <- data$`3-year_patient_survival_(%)_hiv+`[i]\n",
    "  } else if (!is.na(data$`1-year_patient_survival_(%)_hiv+`[i]) && data$`1-year_patient_survival_(%)_hiv+`[i] != \"None\") {\n",
    "    effect_size[i] <- data$`1-year_patient_survival_(%)_hiv+`[i]\n",
    "  } else {\n",
    "    effect_size[i] <- NA  # For missing or 'None' data\n",
    "  }\n",
    "}\n"
   ]
  }
 ],
 "metadata": {
  "kernelspec": {
   "display_name": "R",
   "language": "R",
   "name": "ir"
  },
  "language_info": {
   "codemirror_mode": "r",
   "file_extension": ".r",
   "mimetype": "text/x-r-source",
   "name": "R",
   "pygments_lexer": "r",
   "version": "4.3.2"
  }
 },
 "nbformat": 4,
 "nbformat_minor": 2
}
